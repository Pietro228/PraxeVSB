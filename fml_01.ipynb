{
  "cells": [
    {
      "cell_type": "markdown",
      "metadata": {
        "id": "EErgikq5jsjk",
        "jp-MarkdownHeadingCollapsed": true,
        "tags": []
      },
      "source": [
        "# Fundamentals of Machine Learning - Exercise 1\n",
        "The aim of the exercise is to get an overview of the basic capabilities of the Pandas, Matplotlib and Seaborn libraries and be able to setup a Python Virtual Enviroment (`venv`)\n",
        "\n",
        "**Jupyter lab**\n",
        "\n",
        "* Add code\n",
        "* Add text\n",
        "* Execute command\n",
        "* Shortcuts (a, b, dd, Ctrl+Enter, Shift+Enter, x, c, v)\n",
        "\n",
        "**Alternatives**\n",
        "\n",
        "* Google Colab ([Colaboratory](https://colab.research.google.com/))\n",
        "* Python scripts in VS Code\n",
        "\n",
        "\"![meme01](https://github.com/rasvob/VSB-FEI-Fundamentals-of-Machine-Learning-Exercises/blob/master/images/fml_01_meme_01.png?raw=true)"
      ]
    },
    {
      "cell_type": "markdown",
      "metadata": {
        "id": "l9hHDMhFjshW",
        "tags": []
      },
      "source": [
        "# Data processing\n",
        "\n",
        "Data source: https://www.kaggle.com/c/house-prices-advanced-regression-techniques/data\n",
        "\n",
        "Important attributes description:\n",
        "* SalePrice: The property's sale price in dollars. This is the target variable that you're trying to predict.\n",
        "* MSSubClass: The building class\n",
        "* BldgType: Type of dwelling\n",
        "* HouseStyle: Style of dwelling\n",
        "* OverallQual: Overall material and finish quality\n",
        "* OverallCond: Overall condition rating\n",
        "* YearBuilt: Original construction date\n",
        "* Heating: Type of heating\n",
        "* CentralAir: Central air conditioning\n",
        "* GrLivArea: Above grade (ground) living area square feet\n",
        "* BedroomAbvGr: Number of bedrooms above basement level"
      ]
    },
    {
      "cell_type": "markdown",
      "metadata": {
        "tags": [],
        "id": "pMlA2QVwwGF2"
      },
      "source": [
        "## Import used packages"
      ]
    },
    {
      "cell_type": "code",
      "execution_count": null,
      "metadata": {
        "id": "FVFwXLhL75FZ"
      },
      "outputs": [],
      "source": [
        "import pandas as pd # dataframes\n",
        "import numpy as np # matrices and linear algebra\n",
        "import matplotlib.pyplot as plt # plotting\n",
        "import seaborn as sns # another matplotlib interface - styled and easier to use"
      ]
    },
    {
      "cell_type": "markdown",
      "metadata": {
        "id": "k3lX9nUOwGF3"
      },
      "source": [
        "## The first step is to load the data into the Pandas DataFrame - in our case it is a csv file\n",
        "* https://raw.githubusercontent.com/rasvob/VSB-FEI-Fundamentals-of-Machine-Learning-Exercises/master/datasets/zsu_cv1_data.csv"
      ]
    },
    {
      "cell_type": "code",
      "execution_count": null,
      "metadata": {
        "id": "-pPlKqWOwGF3"
      },
      "outputs": [],
      "source": []
    },
    {
      "cell_type": "markdown",
      "metadata": {
        "id": "LgGTcab4wGF4"
      },
      "source": [
        "## We shloud take a look on the data after loading so we know that everything is OK"
      ]
    },
    {
      "cell_type": "markdown",
      "metadata": {
        "jp-MarkdownHeadingCollapsed": true,
        "tags": [],
        "id": "cOqUkhUMwGF4"
      },
      "source": [
        "### We will start with showing first/last N rows\n",
        "- There are several ways of doing that:\n",
        "    - name of the dataframe\n",
        "    - head()\n",
        "    - tail()"
      ]
    },
    {
      "cell_type": "markdown",
      "metadata": {
        "id": "GVBO9nUzwGF4"
      },
      "source": [
        "### Show 5 first and last rows"
      ]
    },
    {
      "cell_type": "code",
      "execution_count": null,
      "metadata": {
        "id": "MXwkTDMwwGF5"
      },
      "outputs": [],
      "source": []
    },
    {
      "cell_type": "markdown",
      "metadata": {
        "tags": [],
        "id": "RJSSGkBpwGF5"
      },
      "source": [
        "### Show first 5 rows"
      ]
    },
    {
      "cell_type": "code",
      "execution_count": null,
      "metadata": {
        "id": "0GAyiD9UwGF5"
      },
      "outputs": [],
      "source": []
    },
    {
      "cell_type": "markdown",
      "metadata": {
        "tags": [],
        "id": "Sdzl3whmwGF5"
      },
      "source": [
        "### Show last 20 rows"
      ]
    },
    {
      "cell_type": "code",
      "execution_count": null,
      "metadata": {
        "id": "LA3OXPawwGF6"
      },
      "outputs": [],
      "source": [
        "df_full.tail(20)"
      ]
    },
    {
      "cell_type": "markdown",
      "metadata": {
        "id": "3SKFOhh5wGF6"
      },
      "source": [
        "## If we want to know if there are any missing values, the isna() function may render useful"
      ]
    },
    {
      "cell_type": "code",
      "execution_count": null,
      "metadata": {
        "id": "meZKWP3IwGF6"
      },
      "outputs": [],
      "source": []
    },
    {
      "cell_type": "markdown",
      "metadata": {
        "id": "T06FD6zZwGF6"
      },
      "source": [
        "## We can show summary of common statistical characteristic of the data using the describe() function"
      ]
    },
    {
      "cell_type": "code",
      "execution_count": null,
      "metadata": {
        "id": "vQw0kYVuwGF6"
      },
      "outputs": [],
      "source": []
    },
    {
      "cell_type": "markdown",
      "metadata": {
        "tags": [],
        "id": "Yxy-ZDpWwGF9"
      },
      "source": [
        "## 💡 Dataframe has several useful properties\n",
        "    - shape\n",
        "    - dtypes\n",
        "    - columns\n",
        "    - index"
      ]
    },
    {
      "cell_type": "markdown",
      "metadata": {
        "id": "DbYfIKbGwGF9"
      },
      "source": [
        "#### Row and column count"
      ]
    },
    {
      "cell_type": "code",
      "execution_count": null,
      "metadata": {
        "id": "jfXe2V5swGF-"
      },
      "outputs": [],
      "source": []
    },
    {
      "cell_type": "markdown",
      "metadata": {
        "id": "CgbzBwhYwGF-"
      },
      "source": [
        "#### Datatypes of columns"
      ]
    },
    {
      "cell_type": "code",
      "execution_count": null,
      "metadata": {
        "id": "9ODZXBnrwGF-"
      },
      "outputs": [],
      "source": []
    },
    {
      "cell_type": "markdown",
      "metadata": {
        "id": "uX37COQEwGF-"
      },
      "source": [
        "#### Column names"
      ]
    },
    {
      "cell_type": "code",
      "execution_count": null,
      "metadata": {
        "id": "CsJ0s7qdwGF-"
      },
      "outputs": [],
      "source": []
    },
    {
      "cell_type": "markdown",
      "metadata": {
        "id": "4uPPcwfwwGF-"
      },
      "source": [
        "#### Row index values"
      ]
    },
    {
      "cell_type": "code",
      "execution_count": null,
      "metadata": {
        "id": "77aTiT0ywGF-"
      },
      "outputs": [],
      "source": []
    },
    {
      "cell_type": "markdown",
      "metadata": {
        "id": "w22XK33_wGF-"
      },
      "source": [
        "## We may want to work with just one column not the whole dataframe\n",
        "- We will select only the SalePrice columns and save it to another variable"
      ]
    },
    {
      "cell_type": "code",
      "execution_count": null,
      "metadata": {
        "id": "7yLT0pGKwGF-"
      },
      "outputs": [],
      "source": []
    },
    {
      "cell_type": "markdown",
      "metadata": {
        "id": "9v1xXsnOwGF_"
      },
      "source": [
        "## Columns are called Pandas Series - it shares a common API with Pandas DataFrame\n",
        "- 💡 Pandas is numpy-backed so we can use Series as standard numpy arrays without any issues using the .values property"
      ]
    },
    {
      "cell_type": "code",
      "execution_count": null,
      "metadata": {
        "id": "6SnUcNXxwGF_"
      },
      "outputs": [],
      "source": []
    },
    {
      "cell_type": "markdown",
      "metadata": {
        "id": "QzXGZABNwGF_"
      },
      "source": [
        "## Find maximum price using Numpy and Pandas"
      ]
    },
    {
      "cell_type": "code",
      "execution_count": null,
      "metadata": {
        "id": "3IxjNeh1wGF_"
      },
      "outputs": [],
      "source": []
    },
    {
      "cell_type": "code",
      "execution_count": null,
      "metadata": {
        "id": "nyXCx1KQwGF_"
      },
      "outputs": [],
      "source": []
    },
    {
      "cell_type": "markdown",
      "metadata": {
        "tags": [],
        "id": "6jiy4jBnwGGA"
      },
      "source": [
        "## Data filtering using Pandas DataFrame\n",
        "- There are several ways of filtering the data (similar logic to .Where() in C# or WHERE in SQL)\n",
        "- 💡 We usually work with two indexers - .loc[] and .iloc[]\n",
        "\n",
        "### The .iloc[] indexer works with positional indexes - very close to the way of working with the raw arrays\n",
        "### The .loc[] indexer works with column names and logical expressions"
      ]
    },
    {
      "cell_type": "markdown",
      "metadata": {
        "tags": [],
        "id": "Y7fG3Mx8wGGA"
      },
      "source": [
        "### Select all rows and 3rd column of dataframe"
      ]
    },
    {
      "cell_type": "code",
      "execution_count": null,
      "metadata": {
        "id": "JI4m26z4wGGA"
      },
      "outputs": [],
      "source": []
    },
    {
      "cell_type": "markdown",
      "metadata": {
        "tags": [],
        "id": "MZ6kpiWlwGGA"
      },
      "source": [
        "### Select all rows and LAST column of dataframe"
      ]
    },
    {
      "cell_type": "code",
      "execution_count": null,
      "metadata": {
        "id": "ceJoN37QwGGA"
      },
      "outputs": [],
      "source": []
    },
    {
      "cell_type": "markdown",
      "metadata": {
        "id": "5OktGt2mwGGM"
      },
      "source": [
        "### Select 4th to 10th row and all columns"
      ]
    },
    {
      "cell_type": "code",
      "execution_count": null,
      "metadata": {
        "id": "yMJHosd7wGGN"
      },
      "outputs": [],
      "source": []
    },
    {
      "cell_type": "markdown",
      "metadata": {
        "tags": [],
        "id": "GefNdzZuwGGN"
      },
      "source": [
        "### Select 2nd to 13th row and 3rd column"
      ]
    },
    {
      "cell_type": "code",
      "execution_count": null,
      "metadata": {
        "id": "AY-hW0urwGGN"
      },
      "outputs": [],
      "source": []
    },
    {
      "cell_type": "markdown",
      "metadata": {
        "id": "iyXAvjE8wGGN"
      },
      "source": [
        "## Select only a subset of columns to a new dataframe\n",
        "* 'Id', 'SalePrice','MSSubClass','BldgType','HouseStyle','OverallQual','OverallCond','YearBuilt','Heating','CentralAir','GrLivArea','BedroomAbvGr'"
      ]
    },
    {
      "cell_type": "code",
      "execution_count": null,
      "metadata": {
        "id": "9i61csPGwGGN"
      },
      "outputs": [],
      "source": [
        "df = df_full.loc[:, ['Id', 'SalePrice','MSSubClass','BldgType','HouseStyle','OverallQual','OverallCond','YearBuilt','Heating','CentralAir','GrLivArea','BedroomAbvGr']].copy()\n",
        "df.head()"
      ]
    },
    {
      "cell_type": "markdown",
      "metadata": {
        "id": "oQMyo3iHwGGN"
      },
      "source": [
        "### Select only houses built in year 2000 or later\n",
        "* YearBuilt"
      ]
    },
    {
      "cell_type": "code",
      "execution_count": null,
      "metadata": {
        "id": "qPE7WFylwGGN"
      },
      "outputs": [],
      "source": []
    },
    {
      "cell_type": "markdown",
      "metadata": {
        "id": "J9olNgF1wGGO"
      },
      "source": [
        "### Select only houses that don't use GasA for heating (!= or ~ operators)\n",
        "* Heating"
      ]
    },
    {
      "cell_type": "code",
      "execution_count": null,
      "metadata": {
        "id": "F34s9kkuwGGO"
      },
      "outputs": [],
      "source": []
    },
    {
      "cell_type": "markdown",
      "metadata": {
        "tags": [],
        "id": "d3eQIaaVwGGO"
      },
      "source": [
        "### Select houses cheaper than 180k USD and with at least 2 bedrooms\n",
        "* SalePrice, BedroomAbvGr"
      ]
    },
    {
      "cell_type": "code",
      "execution_count": null,
      "metadata": {
        "id": "3TBu3f6RwGGO"
      },
      "outputs": [],
      "source": []
    },
    {
      "cell_type": "markdown",
      "metadata": {
        "id": "FJsbU1u9wGGO"
      },
      "source": [
        "### Select houses with 2 stories or air conditioning\n",
        "* HouseStyle, CentralAir"
      ]
    },
    {
      "cell_type": "code",
      "execution_count": null,
      "metadata": {
        "id": "Qv5gcmjNwGGO"
      },
      "outputs": [],
      "source": []
    },
    {
      "cell_type": "markdown",
      "metadata": {
        "tags": [],
        "id": "Jfq5SZndwGGO"
      },
      "source": [
        "# We can add new columns to the DataFrame as well\n",
        "\n",
        "![meme01](https://github.com/rasvob/VSB-FEI-Fundamentals-of-Machine-Learning-Exercises/blob/master/images/fml_01_meme_02.png?raw=true)"
      ]
    },
    {
      "cell_type": "markdown",
      "metadata": {
        "id": "-7G1P4SMwGGP"
      },
      "source": [
        "### Add a new column named Age for each house (current year - year built)\n",
        "* YearBuilt"
      ]
    },
    {
      "cell_type": "code",
      "execution_count": null,
      "metadata": {
        "id": "4_XZRFmVwGGP"
      },
      "outputs": [],
      "source": []
    },
    {
      "cell_type": "markdown",
      "metadata": {
        "tags": [],
        "id": "SeAfZ51AwGGP"
      },
      "source": [
        "### Add a new column IsLuxury with True value for houses with more than 3 bedrooms and price above 214k USD (.loc)\n",
        "- How many luxury houses are in the dataset?\n",
        "- SalePrice, BedroomAbvGr"
      ]
    },
    {
      "cell_type": "code",
      "execution_count": null,
      "metadata": {
        "id": "KurMGPDjwGGP"
      },
      "outputs": [],
      "source": []
    },
    {
      "cell_type": "markdown",
      "metadata": {
        "tags": [],
        "id": "SQdYtYRywGGP"
      },
      "source": [
        "## Pandas enables us to use aggregation functions for the data using the .groupby() function"
      ]
    },
    {
      "cell_type": "markdown",
      "metadata": {
        "id": "uyl-K_06wGGP"
      },
      "source": [
        "### Compute counts for all the heating methods (groupby / value_counts)\n",
        "* Heating"
      ]
    },
    {
      "cell_type": "code",
      "execution_count": null,
      "metadata": {
        "id": "VnqhHMHqwGGP"
      },
      "outputs": [],
      "source": []
    },
    {
      "cell_type": "code",
      "execution_count": null,
      "metadata": {
        "id": "XgMpXWv2wGGP"
      },
      "outputs": [],
      "source": []
    },
    {
      "cell_type": "markdown",
      "metadata": {
        "id": "aAE33I3Tjse0",
        "tags": []
      },
      "source": [
        "# Visualization"
      ]
    },
    {
      "cell_type": "markdown",
      "metadata": {
        "id": "NcwzgU4oAQGF"
      },
      "source": [
        "## Scatter plot\n",
        "- Visualize relationship between SalePrice and GrLivArea.\n",
        "- Use scatter plot from **Matplotlib**."
      ]
    },
    {
      "cell_type": "code",
      "execution_count": null,
      "metadata": {
        "id": "gHmSh07_ANdA"
      },
      "outputs": [],
      "source": []
    },
    {
      "cell_type": "markdown",
      "metadata": {
        "id": "i5snPTU2SUww",
        "tags": []
      },
      "source": [
        "### Modify figure size and add title"
      ]
    },
    {
      "cell_type": "code",
      "execution_count": null,
      "metadata": {
        "id": "m-iXZtpDLZD8"
      },
      "outputs": [],
      "source": []
    },
    {
      "cell_type": "markdown",
      "metadata": {
        "id": "uh1KH9eRSeni"
      },
      "source": [
        "### Add axis labels"
      ]
    },
    {
      "cell_type": "code",
      "execution_count": null,
      "metadata": {
        "id": "2-AYvW09Rwbh"
      },
      "outputs": [],
      "source": []
    },
    {
      "cell_type": "markdown",
      "metadata": {
        "id": "eQIMbATySmSj"
      },
      "source": [
        "### Add colors for data points based on CentralAir value."
      ]
    },
    {
      "cell_type": "code",
      "execution_count": null,
      "metadata": {
        "id": "kk7EzHSMSneC"
      },
      "outputs": [],
      "source": []
    },
    {
      "cell_type": "markdown",
      "metadata": {
        "id": "ykYT_tiXRNAJ"
      },
      "source": [
        "## Try to use scatterplot from **Seaborn** library for scatter plot visualization."
      ]
    },
    {
      "cell_type": "markdown",
      "metadata": {
        "id": "WJEId9EEwGGR"
      },
      "source": [
        "#### Use dataframe as source and column names for axes data"
      ]
    },
    {
      "cell_type": "code",
      "execution_count": null,
      "metadata": {
        "id": "ZrR0mwqoRK1_"
      },
      "outputs": [],
      "source": []
    },
    {
      "cell_type": "markdown",
      "metadata": {
        "id": "3CvpA3HzwGGR"
      },
      "source": [
        "### Resize plot and add color for markers based on CentralAir column"
      ]
    },
    {
      "cell_type": "code",
      "execution_count": null,
      "metadata": {
        "id": "4rAYREWlRYRN"
      },
      "outputs": [],
      "source": []
    },
    {
      "cell_type": "markdown",
      "metadata": {
        "id": "dT1O29MDVUEE"
      },
      "source": [
        "## Line plot\n",
        "- Calculate and vizualize average house price in relationship to YearBuild."
      ]
    },
    {
      "cell_type": "code",
      "execution_count": null,
      "metadata": {
        "id": "M_pFtbhsVC2Q"
      },
      "outputs": [],
      "source": []
    },
    {
      "cell_type": "code",
      "execution_count": null,
      "metadata": {
        "id": "bfXtmkA6Whdm"
      },
      "outputs": [],
      "source": []
    },
    {
      "cell_type": "markdown",
      "metadata": {
        "id": "VH2TGgm7XL6i"
      },
      "source": [
        "## Bar plot\n",
        "- Calculate and vizualize how many of houses have CentralAir\n",
        "- Use Barplot for visualization"
      ]
    },
    {
      "cell_type": "code",
      "execution_count": null,
      "metadata": {
        "id": "N-luAVWBb1Yt"
      },
      "outputs": [],
      "source": []
    },
    {
      "cell_type": "code",
      "execution_count": null,
      "metadata": {
        "id": "2rKj7QEicmWX"
      },
      "outputs": [],
      "source": []
    },
    {
      "cell_type": "markdown",
      "metadata": {
        "id": "SSkKDFEfb1Ql"
      },
      "source": [
        "### Vizualize number of building type and if they contains air conditioning using Seaborn"
      ]
    },
    {
      "cell_type": "code",
      "execution_count": null,
      "metadata": {
        "id": "RRRhPAvCc52Q"
      },
      "outputs": [],
      "source": []
    },
    {
      "cell_type": "code",
      "execution_count": null,
      "metadata": {
        "id": "pnpFAPXPb1HO"
      },
      "outputs": [],
      "source": []
    },
    {
      "cell_type": "markdown",
      "metadata": {
        "tags": [],
        "id": "mKZgSit7wGGT"
      },
      "source": [
        "# Tasks\n",
        "## ✅ Pandas (1 pt)\n",
        "* Add a new column *Undervalued* which is set to True in case that the house is priced bellow 163k USD and has both OverallQual and OverallCond higher than 5.\n",
        "\n",
        "* **How many undervalued houses are in the dataset?**\n",
        "\n",
        "## ✅ Vizualization (1 pt)\n",
        "* Add to dataframe new attribute determining if the house was build before or after year 2000.\n",
        "\n",
        "* **Create bar chart for number of houses depending on type of dwelling (attribute BldgType, use as a category axis) and added binary attribute about house age (use as a bar color).**"
      ]
    },
    {
      "cell_type": "code",
      "source": [
        "import pandas as pd # dataframes\n",
        "import numpy as np # matrices and linear algebra\n",
        "import matplotlib.pyplot as plt # plotting\n",
        "import seaborn as sns # another matplotlib interface - styled and easier to use"
      ],
      "metadata": {
        "id": "KSM6CS1MxBFr"
      },
      "execution_count": 1,
      "outputs": []
    },
    {
      "cell_type": "code",
      "source": [
        "print(\"Hello\")"
      ],
      "metadata": {
        "id": "LB8bQleYxSdf",
        "outputId": "d5daff7d-4619-4b37-a714-9c2480d096a9",
        "colab": {
          "base_uri": "https://localhost:8080/"
        }
      },
      "execution_count": 2,
      "outputs": [
        {
          "output_type": "stream",
          "name": "stdout",
          "text": [
            "Hello\n"
          ]
        }
      ]
    },
    {
      "cell_type": "code",
      "source": [
        "#data reading\n",
        "df_full = pd.read_csv('https://raw.githubusercontent.com/rasvob/VSB-FEI-Fundamentals-of-Machine-Learning-Exercises/master/datasets/zsu_cv1_data.csv')\n",
        "print(df_full)"
      ],
      "metadata": {
        "id": "dHe28GU0xWoU",
        "outputId": "8f2fb77c-ef48-49e2-d390-4928ff600b51",
        "colab": {
          "base_uri": "https://localhost:8080/"
        }
      },
      "execution_count": 4,
      "outputs": [
        {
          "output_type": "stream",
          "name": "stdout",
          "text": [
            "        Id  MSSubClass MSZoning  LotFrontage  LotArea Street Alley LotShape  \\\n",
            "0        1          60       RL         65.0     8450   Pave   NaN      Reg   \n",
            "1        2          20       RL         80.0     9600   Pave   NaN      Reg   \n",
            "2        3          60       RL         68.0    11250   Pave   NaN      IR1   \n",
            "3        4          70       RL         60.0     9550   Pave   NaN      IR1   \n",
            "4        5          60       RL         84.0    14260   Pave   NaN      IR1   \n",
            "...    ...         ...      ...          ...      ...    ...   ...      ...   \n",
            "1455  1456          60       RL         62.0     7917   Pave   NaN      Reg   \n",
            "1456  1457          20       RL         85.0    13175   Pave   NaN      Reg   \n",
            "1457  1458          70       RL         66.0     9042   Pave   NaN      Reg   \n",
            "1458  1459          20       RL         68.0     9717   Pave   NaN      Reg   \n",
            "1459  1460          20       RL         75.0     9937   Pave   NaN      Reg   \n",
            "\n",
            "     LandContour Utilities  ... PoolArea PoolQC  Fence MiscFeature MiscVal  \\\n",
            "0            Lvl    AllPub  ...        0    NaN    NaN         NaN       0   \n",
            "1            Lvl    AllPub  ...        0    NaN    NaN         NaN       0   \n",
            "2            Lvl    AllPub  ...        0    NaN    NaN         NaN       0   \n",
            "3            Lvl    AllPub  ...        0    NaN    NaN         NaN       0   \n",
            "4            Lvl    AllPub  ...        0    NaN    NaN         NaN       0   \n",
            "...          ...       ...  ...      ...    ...    ...         ...     ...   \n",
            "1455         Lvl    AllPub  ...        0    NaN    NaN         NaN       0   \n",
            "1456         Lvl    AllPub  ...        0    NaN  MnPrv         NaN       0   \n",
            "1457         Lvl    AllPub  ...        0    NaN  GdPrv        Shed    2500   \n",
            "1458         Lvl    AllPub  ...        0    NaN    NaN         NaN       0   \n",
            "1459         Lvl    AllPub  ...        0    NaN    NaN         NaN       0   \n",
            "\n",
            "     MoSold YrSold  SaleType  SaleCondition  SalePrice  \n",
            "0         2   2008        WD         Normal     208500  \n",
            "1         5   2007        WD         Normal     181500  \n",
            "2         9   2008        WD         Normal     223500  \n",
            "3         2   2006        WD        Abnorml     140000  \n",
            "4        12   2008        WD         Normal     250000  \n",
            "...     ...    ...       ...            ...        ...  \n",
            "1455      8   2007        WD         Normal     175000  \n",
            "1456      2   2010        WD         Normal     210000  \n",
            "1457      5   2010        WD         Normal     266500  \n",
            "1458      4   2010        WD         Normal     142125  \n",
            "1459      6   2008        WD         Normal     147500  \n",
            "\n",
            "[1460 rows x 81 columns]\n"
          ]
        }
      ]
    },
    {
      "cell_type": "code",
      "source": [
        "#HW1\n",
        "# Add a new column Undervalued which is set to True in case that the house is priced bellow 163k USD and has both OverallQual and OverallCond higher than 5.\n",
        "\n",
        "# How many undervalued houses are in the dataset?"
      ],
      "metadata": {
        "id": "4xk4EPrbxsXT"
      },
      "execution_count": null,
      "outputs": []
    }
  ],
  "metadata": {
    "colab": {
      "name": "ZSU_cv1_introduction_jupyter_pandas_visualization.ipynb",
      "provenance": []
    },
    "kernelspec": {
      "display_name": "Python 3",
      "language": "python",
      "name": "python3"
    },
    "language_info": {
      "codemirror_mode": {
        "name": "ipython",
        "version": 3
      },
      "file_extension": ".py",
      "mimetype": "text/x-python",
      "name": "python",
      "nbconvert_exporter": "python",
      "pygments_lexer": "ipython3",
      "version": "3.7.4"
    }
  },
  "nbformat": 4,
  "nbformat_minor": 0
}